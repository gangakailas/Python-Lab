{
  "nbformat": 4,
  "nbformat_minor": 0,
  "metadata": {
    "colab": {
      "provenance": [],
      "authorship_tag": "ABX9TyNGn0d6lqzpmprh/jfitDM8",
      "include_colab_link": true
    },
    "kernelspec": {
      "name": "python3",
      "display_name": "Python 3"
    },
    "language_info": {
      "name": "python"
    }
  },
  "cells": [
    {
      "cell_type": "markdown",
      "metadata": {
        "id": "view-in-github",
        "colab_type": "text"
      },
      "source": [
        "<a href=\"https://colab.research.google.com/github/gangakailas/Python-Lab/blob/main/LABCYCLE2.ipynb\" target=\"_parent\"><img src=\"https://colab.research.google.com/assets/colab-badge.svg\" alt=\"Open In Colab\"/></a>"
      ]
    },
    {
      "cell_type": "code",
      "source": [
        "list1=[1, 1]\n",
        "\n",
        "def get_rabbit_pair(n):\n",
        "  for i in range(0, n):\n",
        "    print(\"|   \",i+1,\"         |     \",list1[i],\"            |\")\n",
        "    print(\"-\"*38)\n",
        "    sum=list1[i]+list1[i+1]\n",
        "    list1.append(sum)\n",
        "\n",
        "\n",
        "x=int(input(\"Enter no. of months: \"))\n",
        "print(\"-\"*38)\n",
        "print(\"|  MONTHS       |   NO. OF PAIRS     |\")\n",
        "print(\"-\"*38)\n",
        "get_rabbit_pair(x) "
      ],
      "metadata": {
        "id": "749EOx8lRwX5",
        "colab": {
          "base_uri": "https://localhost:8080/"
        },
        "outputId": "2ac9ae2e-1273-44ae-a595-2df0e9129112"
      },
      "execution_count": null,
      "outputs": [
        {
          "output_type": "stream",
          "name": "stdout",
          "text": [
            "Enter no. of months: 6\n",
            "--------------------------------------\n",
            "|  MONTHS       |   NO. OF PAIRS     |\n",
            "--------------------------------------\n",
            "|    1          |      1             |\n",
            "--------------------------------------\n",
            "|    2          |      1             |\n",
            "--------------------------------------\n",
            "|    3          |      2             |\n",
            "--------------------------------------\n",
            "|    4          |      3             |\n",
            "--------------------------------------\n",
            "|    5          |      5             |\n",
            "--------------------------------------\n",
            "|    6          |      8             |\n",
            "--------------------------------------\n"
          ]
        }
      ]
    },
    {
      "cell_type": "code",
      "source": [
        "#converting space separated string to a list\n",
        "str1=input(\"Enter a some space separated numbers= \")\n",
        "list1=str1.split()\n",
        "print(list1)\n",
        "\n",
        "#rotating the list element by 'k' position\n",
        "k=int(input(\"Enter the position by which the list elements are to be rotated= \"))\n",
        "list1=list1[k:]+list1[0:k]\n",
        "print(list1)\n",
        "print(\"\\n\")\n",
        "\n",
        "#converting the list to a tuple using comprehension\n",
        "print(\"After list to tuple conversion:\")\n",
        "tup1=tuple(i for i in list1)\n",
        "print(tup1)\n",
        "print(\"\\n\")\n",
        "\n",
        "#removing duplicate values from tuple and turning it back to a list\n",
        "tup1=tuple(set(tup1))\n",
        "print(\"Tuple after duplicate removal:\")\n",
        "print(tup1)\n",
        "print(\"Conversion back to list:\")\n",
        "mylist=list(tup1)\n",
        "print(mylist)\n",
        "print(\"\\n\")\n",
        "\n",
        "#creating a new list using function f(x)=x^2-x \n",
        "newlist=[]\n",
        "mylist1=[]\n",
        "for i in mylist:           \n",
        "  mylist1.append(int(i))     #for converting the elements in list to int type(from str type)\n",
        "for i in mylist1:           \n",
        "  fnvalue=(i*i)-i\n",
        "  newlist.append(fnvalue)   #creating list according to function\n",
        "print(\"Creation of new list using function f(x)=x^2-x \")\n",
        "print(\"Source list= \", mylist1)\n",
        "print(\"Created list= \", newlist)\n",
        "print(\"\\n\")\n",
        "\n",
        "#sorting and merging mylist1 and newlist\n",
        "mylist1.sort()\n",
        "print(\"First list after sorting: \")\n",
        "print(mylist1)\n",
        "\n",
        "newlist.sort()\n",
        "print(\"Second list after sorting: \")\n",
        "print(newlist)\n",
        "\n",
        "finallist=mylist1+newlist\n",
        "finallist.sort()\n",
        "print(\"Final sorted list after merging:\")\n",
        "print(finallist)"
      ],
      "metadata": {
        "colab": {
          "base_uri": "https://localhost:8080/"
        },
        "id": "jI_WX5Fj-PGe",
        "outputId": "56390021-5a94-4ea2-c97e-4a0a951d9738"
      },
      "execution_count": null,
      "outputs": [
        {
          "output_type": "stream",
          "name": "stdout",
          "text": [
            "Enter a some space separated numbers= 1 2 3 4 5 6 6 7\n",
            "['1', '2', '3', '4', '5', '6', '6', '7']\n",
            "Enter the position by which the list elements are to be rotated= 3\n",
            "['4', '5', '6', '6', '7', '1', '2', '3']\n",
            "\n",
            "\n",
            "After list to tuple conversion:\n",
            "('4', '5', '6', '6', '7', '1', '2', '3')\n",
            "\n",
            "\n",
            "Tuple after duplicate removal:\n",
            "('6', '7', '3', '2', '4', '5', '1')\n",
            "Conversion back to list:\n",
            "['6', '7', '3', '2', '4', '5', '1']\n",
            "\n",
            "\n",
            "Creation of new list using function f(x)=x^2-x \n",
            "Source list=  [6, 7, 3, 2, 4, 5, 1]\n",
            "Created list=  [30, 42, 6, 2, 12, 20, 0]\n",
            "\n",
            "\n",
            "First list after sorting: \n",
            "[1, 2, 3, 4, 5, 6, 7]\n",
            "Second list after sorting: \n",
            "[0, 2, 6, 12, 20, 30, 42]\n",
            "Final sorted list after merging:\n",
            "[0, 1, 2, 2, 3, 4, 5, 6, 6, 7, 12, 20, 30, 42]\n"
          ]
        }
      ]
    }
  ]
}